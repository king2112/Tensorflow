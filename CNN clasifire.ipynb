{
 "cells": [
  {
   "cell_type": "code",
   "execution_count": 2,
   "metadata": {},
   "outputs": [],
   "source": [
    "import numpy as np\n",
    "import tensorflow as tf\n",
    "from tensorflow.examples.tutorials.mnist import input_data\n"
   ]
  },
  {
   "cell_type": "markdown",
   "metadata": {},
   "source": [
    "# Defining inputs and collecting them from Mnist"
   ]
  },
  {
   "cell_type": "code",
   "execution_count": 4,
   "metadata": {},
   "outputs": [
    {
     "name": "stdout",
     "output_type": "stream",
     "text": [
      "Extracting tmp/data/train-images-idx3-ubyte.gz\n",
      "Extracting tmp/data/train-labels-idx1-ubyte.gz\n",
      "Extracting tmp/data/t10k-images-idx3-ubyte.gz\n",
      "Extracting tmp/data/t10k-labels-idx1-ubyte.gz\n",
      "(20, 784)\n",
      "[[0. 0. 0. 0. 0. 0. 0. 1. 0. 0.]\n",
      " [0. 0. 0. 1. 0. 0. 0. 0. 0. 0.]\n",
      " [0. 0. 0. 0. 1. 0. 0. 0. 0. 0.]\n",
      " [0. 0. 0. 0. 0. 0. 1. 0. 0. 0.]\n",
      " [0. 1. 0. 0. 0. 0. 0. 0. 0. 0.]\n",
      " [0. 0. 0. 0. 0. 0. 0. 0. 1. 0.]\n",
      " [0. 1. 0. 0. 0. 0. 0. 0. 0. 0.]\n",
      " [1. 0. 0. 0. 0. 0. 0. 0. 0. 0.]\n",
      " [0. 0. 0. 0. 0. 0. 0. 0. 0. 1.]\n",
      " [0. 0. 0. 0. 0. 0. 0. 0. 1. 0.]\n",
      " [1. 0. 0. 0. 0. 0. 0. 0. 0. 0.]\n",
      " [0. 0. 0. 1. 0. 0. 0. 0. 0. 0.]\n",
      " [0. 1. 0. 0. 0. 0. 0. 0. 0. 0.]\n",
      " [0. 0. 1. 0. 0. 0. 0. 0. 0. 0.]\n",
      " [0. 0. 0. 0. 0. 0. 0. 1. 0. 0.]\n",
      " [1. 0. 0. 0. 0. 0. 0. 0. 0. 0.]\n",
      " [0. 0. 1. 0. 0. 0. 0. 0. 0. 0.]\n",
      " [0. 0. 0. 0. 0. 0. 0. 0. 0. 1.]\n",
      " [0. 0. 0. 0. 0. 0. 1. 0. 0. 0.]\n",
      " [1. 0. 0. 0. 0. 0. 0. 0. 0. 0.]]\n"
     ]
    }
   ],
   "source": [
    "mnist = input_data.read_data_sets(\"tmp/data/\",one_hot=True)\n",
    "x_raw,y_raw = mnist.train.next_batch(20)\n",
    "print(np.shape(x_raw))\n",
    "print(y_raw)"
   ]
  },
  {
   "cell_type": "code",
   "execution_count": 5,
   "metadata": {},
   "outputs": [],
   "source": [
    "n_input = 28*28 #image_width*image_height\n",
    "n_hidden = 2\n",
    "n_classes = 10\n",
    "\n",
    "\n",
    "tf.reset_default_graph()\n"
   ]
  },
  {
   "cell_type": "markdown",
   "metadata": {},
   "source": [
    "# Defining weights and biases "
   ]
  },
  {
   "cell_type": "code",
   "execution_count": 6,
   "metadata": {},
   "outputs": [],
   "source": [
    "W = { \"h1\": tf.Variable(tf.ones([3,3,1,32])),\n",
    "        \"h2\": tf.Variable(tf.ones([3,3,32,64])),\n",
    "        \"h3\": tf.Variable(tf.ones([12*12*64,128])),\n",
    "        \"out\": tf.Variable(tf.ones([128,n_classes])),\n",
    "}\n",
    "\n",
    "b = { \"b1\": tf.Variable(tf.zeros([32])),\n",
    "        \"b2\": tf.Variable(tf.zeros([64])),\n",
    "        \"b3\": tf.Variable(tf.zeros([128])),\n",
    "        \"bout\": tf.Variable(tf.zeros([n_classes])),\n",
    "}\n",
    "x = tf.placeholder(\"float\", [None, n_input])\n",
    "y = tf.placeholder(\"float\", [None, n_classes])\n",
    "\n"
   ]
  },
  {
   "cell_type": "code",
   "execution_count": 7,
   "metadata": {},
   "outputs": [],
   "source": [
    "#reshaping inputs"
   ]
  },
  {
   "cell_type": "code",
   "execution_count": 8,
   "metadata": {},
   "outputs": [],
   "source": [
    "xi = tf.reshape(x,[-1,28,28,1])"
   ]
  },
  {
   "cell_type": "markdown",
   "metadata": {},
   "source": [
    "# Biulding model"
   ]
  },
  {
   "cell_type": "code",
   "execution_count": 9,
   "metadata": {},
   "outputs": [],
   "source": [
    "l1 = tf.nn.conv2d(xi,W[\"h1\"],strides=[1,1,1,1],padding=\"VALID\")\n",
    "l1_b = tf.nn.bias_add(l1,b[\"b1\"])\n",
    "l1_act = tf.nn.relu(l1_b)\n",
    "\n",
    "l2 = tf.nn.conv2d(l1_act,W[\"h2\"],strides=[1,1,1,1],padding=\"VALID\")\n",
    "l2_b = tf.nn.bias_add(l2,b[\"b2\"])\n",
    "l2_act = tf.nn.relu(l2_b)\n",
    "\n",
    "l3_max = tf.nn.max_pool(l2_act,[1,2,2,1],strides=[1,2,2,1],padding=\"VALID\")\n",
    "\n",
    "# Dense\n",
    "l4 = tf.reshape(l3_max,[-1,12*12*64])\n",
    "l4 = tf.matmul(l4,W[\"h3\"])\n",
    "l4_b = tf.nn.bias_add(l4,b[\"b3\"])\n",
    "l4_act = tf.nn.relu(l4_b)\n",
    "\n",
    "l5 = tf.matmul(l4,W[\"out\"])+b[\"bout\"]\n",
    "out_act = tf.nn.softmax(l5)\n"
   ]
  },
  {
   "cell_type": "code",
   "execution_count": 10,
   "metadata": {},
   "outputs": [],
   "source": [
    "cost = tf.reduce_mean(tf.nn.softmax_cross_entropy_with_logits(logits=l5,labels=y))\n",
    "optimizer = tf.train.AdamOptimizer(learning_rate=0.01).minimize(cost)"
   ]
  },
  {
   "cell_type": "markdown",
   "metadata": {},
   "source": [
    "# Training model"
   ]
  },
  {
   "cell_type": "code",
   "execution_count": 11,
   "metadata": {},
   "outputs": [
    {
     "name": "stdout",
     "output_type": "stream",
     "text": [
      "0\n"
     ]
    }
   ],
   "source": [
    "with tf.Session() as sess:\n",
    "        sess.run(tf.global_variables_initializer())\n",
    "        x_raw,y_raw = mnist.train.next_batch(20)\n",
    "        #pred = l1_b.eval({x: x_raw})\n",
    "        #print(pred)\n",
    "        for i in range(1):\n",
    "              if(i%100==0):\n",
    "                    print(i)\n",
    "              kk = sess.run(optimizer,feed_dict={x: x_raw,y: y_raw})\n",
    "        pred = out_act.eval({x: x_raw})\n",
    "        \n",
    "      "
   ]
  },
  {
   "cell_type": "markdown",
   "metadata": {},
   "source": [
    "# Results "
   ]
  },
  {
   "cell_type": "code",
   "execution_count": 12,
   "metadata": {},
   "outputs": [
    {
     "data": {
      "text/plain": [
       "(20, 10)"
      ]
     },
     "execution_count": 12,
     "metadata": {},
     "output_type": "execute_result"
    }
   ],
   "source": [
    "np.shape(pred)"
   ]
  },
  {
   "cell_type": "code",
   "execution_count": 13,
   "metadata": {},
   "outputs": [
    {
     "name": "stdout",
     "output_type": "stream",
     "text": [
      "pred is :3 , actual value is: 1\n",
      "pred is :3 , actual value is: 6\n",
      "pred is :3 , actual value is: 7\n",
      "pred is :3 , actual value is: 1\n",
      "pred is :3 , actual value is: 9\n",
      "pred is :3 , actual value is: 7\n",
      "pred is :3 , actual value is: 6\n",
      "pred is :3 , actual value is: 5\n",
      "pred is :3 , actual value is: 5\n",
      "pred is :3 , actual value is: 8\n",
      "pred is :3 , actual value is: 8\n",
      "pred is :3 , actual value is: 3\n",
      "pred is :3 , actual value is: 4\n",
      "pred is :3 , actual value is: 4\n",
      "pred is :3 , actual value is: 8\n",
      "pred is :3 , actual value is: 7\n",
      "pred is :3 , actual value is: 3\n",
      "pred is :3 , actual value is: 6\n",
      "pred is :3 , actual value is: 4\n",
      "pred is :3 , actual value is: 6\n"
     ]
    }
   ],
   "source": [
    "for i in range(20):\n",
    "    print(\"pred is :{} , actual value is: {}\".format(np.argmax(pred[i]),np.argmax(y_raw[i])))\n",
    "#bc of initializing ones it's take so many time to train good\n"
   ]
  },
  {
   "cell_type": "markdown",
   "metadata": {},
   "source": [
    "# for evaluating some weights or etc just use:"
   ]
  },
  {
   "cell_type": "code",
   "execution_count": null,
   "metadata": {},
   "outputs": [],
   "source": [
    "#evaluating weights of first hidden layer:\n",
    "m = W[\"h1\"].eval()"
   ]
  },
  {
   "cell_type": "code",
   "execution_count": 15,
   "metadata": {},
   "outputs": [
    {
     "data": {
      "text/plain": [
       "[<tensorflow.python.ops.variables.Variable at 0x111306f98>,\n",
       " <tensorflow.python.ops.variables.Variable at 0x117678dd8>,\n",
       " <tensorflow.python.ops.variables.Variable at 0x117678f60>,\n",
       " <tensorflow.python.ops.variables.Variable at 0x117678ef0>,\n",
       " <tensorflow.python.ops.variables.Variable at 0x117678da0>,\n",
       " <tensorflow.python.ops.variables.Variable at 0x11767a5f8>,\n",
       " <tensorflow.python.ops.variables.Variable at 0x1176a2630>,\n",
       " <tensorflow.python.ops.variables.Variable at 0x11767a278>]"
      ]
     },
     "execution_count": 15,
     "metadata": {},
     "output_type": "execute_result"
    }
   ],
   "source": [
    "\n",
    "tf.trainable_variables()"
   ]
  },
  {
   "cell_type": "code",
   "execution_count": null,
   "metadata": {},
   "outputs": [],
   "source": []
  }
 ],
 "metadata": {
  "kernelspec": {
   "display_name": "Python 3",
   "language": "python",
   "name": "python3"
  },
  "language_info": {
   "codemirror_mode": {
    "name": "ipython",
    "version": 3
   },
   "file_extension": ".py",
   "mimetype": "text/x-python",
   "name": "python",
   "nbconvert_exporter": "python",
   "pygments_lexer": "ipython3",
   "version": "3.7.0"
  }
 },
 "nbformat": 4,
 "nbformat_minor": 2
}

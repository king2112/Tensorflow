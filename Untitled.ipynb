{
 "cells": [
  {
   "cell_type": "code",
   "execution_count": null,
   "metadata": {},
   "outputs": [],
   "source": [
    "import numpy as np\n",
    "import tensorflow as tf\n",
    "\n",
    "def sigmoid(x):\n",
    "        return 1/(1+np.exp(-x))\n",
    "\n",
    "\n",
    "n_input = 3\n",
    "n_hidden = 2\n",
    "n_output = 1\n",
    "\n",
    "W = { \"h1\": tf.Variable(tf.ones([n_input, n_hidden]),name=\"h1\"),\n",
    "        \"out\": tf.Variable(tf.ones([n_hidden, n_output]))\n",
    "}\n",
    "\n",
    "b = { \"b1\": tf.Variable(tf.zeros([n_hidden])),\n",
    "        \"bout\": tf.Variable(tf.zeros([n_output]))\n",
    "}\n",
    "\n",
    "x = tf.placeholder(\"float\", [None, n_input])\n",
    "y = tf.placeholder(\"float\", [None, n_output])\n",
    "\n",
    "\n",
    "l1 = tf.add(tf.matmul(x,W[\"h1\"]),b[\"b1\"])\n",
    "l1_act = tf.sigmoid(l1)\n",
    "\n",
    "out = tf.add(tf.matmul(l1_act,W[\"out\"]),b[\"bout\"])\n",
    "out_act = tf.sigmoid(out)\n",
    "\n",
    "cost = tf.reduce_mean(tf.abs(tf.subtract(out_act,y)))\n",
    "train_step = tf.train.AdadeltaOptimizer(learning_rate=1.0).minimize(cost)\n",
    "\n",
    "x_raw = np.array([[1,2,3]])\n",
    "y_raw = np.array([3])\n",
    "y_raw = np.reshape(y_raw,(1,1))\n",
    "\n",
    "with tf.Session() as sess:\n",
    "        sess.run(tf.global_variables_initializer())\n",
    "\n",
    "        pred = out_act.eval({x: x_raw})\n",
    "        print(pred)\n",
    "\n",
    "        print(sigmoid(2*sigmoid(6)))\n",
    "\n",
    "        for epoch in range(100):\n",
    "                k = sess.run(train_step,feed_dict={x: x_raw,y: y_raw})"
   ]
  }
 ],
 "metadata": {
  "kernelspec": {
   "display_name": "Python 3",
   "language": "python",
   "name": "python3"
  },
  "language_info": {
   "codemirror_mode": {
    "name": "ipython",
    "version": 3
   },
   "file_extension": ".py",
   "mimetype": "text/x-python",
   "name": "python",
   "nbconvert_exporter": "python",
   "pygments_lexer": "ipython3",
   "version": "3.7.0"
  }
 },
 "nbformat": 4,
 "nbformat_minor": 2
}

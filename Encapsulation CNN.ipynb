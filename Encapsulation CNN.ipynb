{
 "cells": [
  {
   "cell_type": "code",
   "execution_count": 1,
   "metadata": {},
   "outputs": [
    {
     "name": "stdout",
     "output_type": "stream",
     "text": [
      "Successfully downloaded train-images-idx3-ubyte.gz 9912422 bytes.\n",
      "Extracting /tmp/data/train-images-idx3-ubyte.gz\n",
      "Successfully downloaded train-labels-idx1-ubyte.gz 28881 bytes.\n",
      "Extracting /tmp/data/train-labels-idx1-ubyte.gz\n",
      "Successfully downloaded t10k-images-idx3-ubyte.gz 1648877 bytes.\n",
      "Extracting /tmp/data/t10k-images-idx3-ubyte.gz\n",
      "Successfully downloaded t10k-labels-idx1-ubyte.gz 4542 bytes.\n",
      "Extracting /tmp/data/t10k-labels-idx1-ubyte.gz\n"
     ]
    }
   ],
   "source": [
    "import numpy as np\n",
    "import tensorflow as tf\n",
    "from tensorflow.examples.tutorials.mnist import input_data\n",
    "mnist = input_data.read_data_sets(\"/tmp/data/\",one_hot=True)"
   ]
  },
  {
   "cell_type": "code",
   "execution_count": 2,
   "metadata": {},
   "outputs": [],
   "source": [
    "x_raw,y_raw = mnist.train.next_batch(40)\n",
    "# Constants and variables\n",
    "n_classes = 10\n",
    "img_width = 28\n",
    "img_height = 28\n",
    "\n",
    "# For ipython\n",
    "tf.reset_default_graph()\n"
   ]
  },
  {
   "cell_type": "code",
   "execution_count": 3,
   "metadata": {},
   "outputs": [],
   "source": [
    "def getModel():\n",
    "    \n",
    "     # Network\n",
    "        x = tf.placeholder(\"float\", [None, img_width*img_height])\n",
    "        y = tf.placeholder(\"float\", [None, n_classes])\n",
    "\n",
    "        xi = tf.reshape(x,[-1,28,28,1])\n",
    "        \n",
    "       \n",
    "        with tf.variable_scope(\"conv1\") as scope:\n",
    "                W = tf.get_variable(\"W\",shape=[3,3,1,32],initializer=tf.contrib.layers.xavier_initializer())\n",
    "                b = tf.get_variable(\"b\",initializer=tf.zeros([32]))\n",
    "                l1 = tf.nn.conv2d(xi,W,strides=[1,1,1,1],padding=\"VALID\")\n",
    "                l1_b = tf.nn.bias_add(l1,b)\n",
    "                l1_act = tf.nn.relu(l1_b)\n",
    "\n",
    "        with tf.variable_scope(\"conv2\") as scope:\n",
    "                W = tf.get_variable(\"W\",shape=[3,3,32,64],initializer=tf.contrib.layers.xavier_initializer())\n",
    "                b = tf.get_variable(\"b\",initializer=tf.zeros([64]))\n",
    "                l2 = tf.nn.conv2d(l1_act,W,strides=[1,1,1,1],padding=\"VALID\")\n",
    "                l2_b = tf.nn.bias_add(l2,b)\n",
    "                l2_act = tf.nn.relu(l2_b)\n",
    "\n",
    "        # Maxpooling\n",
    "        l3_max = tf.nn.max_pool(l2_act,[1,2,2,1],strides=[1,2,2,1],padding=\"VALID\")\n",
    "        \n",
    "        with tf.variable_scope(\"dense1\") as scope:\n",
    "                W = tf.get_variable(\"W\",shape=[12*12*64,128],initializer=tf.contrib.layers.xavier_initializer())\n",
    "                b = tf.get_variable(\"b\",initializer=tf.zeros([128]))\n",
    "                l4 = tf.reshape(l3_max,[-1,12*12*64])\n",
    "                l4 = tf.matmul(l4,W)\n",
    "                l4_b = tf.nn.bias_add(l4,b)\n",
    "                l4_act = tf.nn.relu(l4_b)\n",
    "\n",
    "\n",
    "        with tf.variable_scope(\"dense2\") as scope:\n",
    "                W = tf.get_variable(\"W\",shape=[128,n_classes],initializer=tf.contrib.layers.xavier_initializer())\n",
    "                b = tf.get_variable(\"b\",initializer=tf.zeros([n_classes]))\n",
    "                l5 = tf.matmul(l4,W)+b\n",
    "                \n",
    "                \n",
    "        eval_pred = tf.nn.softmax(l5)\n",
    "        cost = tf.reduce_mean(tf.nn.softmax_cross_entropy_with_logits(logits=l5,labels=y))\n",
    "        train_step = tf.train.AdamOptimizer(learning_rate=0.01).minimize(cost)\n",
    "\n",
    "        return (x,y),train_step,cost,eval_pred"
   ]
  },
  {
   "cell_type": "markdown",
   "metadata": {},
   "source": [
    "# Getting variables"
   ]
  }
 ],
 "metadata": {
  "kernelspec": {
   "display_name": "Python 3",
   "language": "python",
   "name": "python3"
  },
  "language_info": {
   "codemirror_mode": {
    "name": "ipython",
    "version": 3
   },
   "file_extension": ".py",
   "mimetype": "text/x-python",
   "name": "python",
   "nbconvert_exporter": "python",
   "pygments_lexer": "ipython3",
   "version": "3.7.0"
  }
 },
 "nbformat": 4,
 "nbformat_minor": 2
}
